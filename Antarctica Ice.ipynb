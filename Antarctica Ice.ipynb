{
 "cells": [
  {
   "cell_type": "code",
   "execution_count": 2,
   "metadata": {
    "collapsed": true
   },
   "outputs": [],
   "source": [
    "# Climate Change Heatmap\n",
    "import pandas as pd\n",
    "import seaborn as sns\n",
    "%matplotlib inline"
   ]
  },
  {
   "cell_type": "code",
   "execution_count": 58,
   "metadata": {},
   "outputs": [
    {
     "data": {
      "text/html": [
       "<div>\n",
       "<table border=\"1\" class=\"dataframe\">\n",
       "  <thead>\n",
       "    <tr style=\"text-align: right;\">\n",
       "      <th></th>\n",
       "      <th>Raw</th>\n",
       "      <th>Smoothed</th>\n",
       "    </tr>\n",
       "    <tr>\n",
       "      <th>Date</th>\n",
       "      <th></th>\n",
       "      <th></th>\n",
       "    </tr>\n",
       "  </thead>\n",
       "  <tbody>\n",
       "    <tr>\n",
       "      <th>2002.29</th>\n",
       "      <td>0.00</td>\n",
       "      <td>159.11</td>\n",
       "    </tr>\n",
       "    <tr>\n",
       "      <th>2002.35</th>\n",
       "      <td>66.22</td>\n",
       "      <td>102.59</td>\n",
       "    </tr>\n",
       "    <tr>\n",
       "      <th>2002.62</th>\n",
       "      <td>-169.61</td>\n",
       "      <td>88.76</td>\n",
       "    </tr>\n",
       "    <tr>\n",
       "      <th>2002.71</th>\n",
       "      <td>179.38</td>\n",
       "      <td>102.80</td>\n",
       "    </tr>\n",
       "    <tr>\n",
       "      <th>2002.79</th>\n",
       "      <td>39.72</td>\n",
       "      <td>66.48</td>\n",
       "    </tr>\n",
       "  </tbody>\n",
       "</table>\n",
       "</div>"
      ],
      "text/plain": [
       "            Raw  Smoothed\n",
       "Date                     \n",
       "2002.29    0.00    159.11\n",
       "2002.35   66.22    102.59\n",
       "2002.62 -169.61     88.76\n",
       "2002.71  179.38    102.80\n",
       "2002.79   39.72     66.48"
      ]
     },
     "execution_count": 58,
     "metadata": {},
     "output_type": "execute_result"
    }
   ],
   "source": [
    "# Read in dataframe\n",
    "Climate_Data = pd.read_csv('Antarctic_Ice.txt',sep='\\t', names=['Date','Raw','Smoothed'],index_col='Date')\n",
    "Climate_Data.head()"
   ]
  },
  {
   "cell_type": "code",
   "execution_count": 59,
   "metadata": {},
   "outputs": [],
   "source": [
    "# Format Data Frame\n",
    "df = pd.DataFrame(Climate_Data['Raw'])\n",
    "df1_transposed = df.T"
   ]
  },
  {
   "cell_type": "code",
   "execution_count": 60,
   "metadata": {
    "collapsed": true
   },
   "outputs": [],
   "source": [
    "# Get a listing of dates\n",
    "Dates = list(df1_transposed.columns)\n",
    "\n",
    "Date_Labels = []\n",
    "for ticknum in range(33):\n",
    "    if ticknum == 0:\n",
    "        Date_Labels.append(str(2002))\n",
    "    if ticknum == 31:\n",
    "        Date_Labels.append(str(2018))\n",
    "    else:\n",
    "        Date_Labels.append('')"
   ]
  },
  {
   "cell_type": "code",
   "execution_count": 61,
   "metadata": {},
   "outputs": [
    {
     "data": {
      "text/plain": [
       "<matplotlib.text.Text at 0x11303dfd0>"
      ]
     },
     "execution_count": 61,
     "metadata": {},
     "output_type": "execute_result"
    },
    {
     "data": {
      "image/png": "[encoded data removed]",
      "text/plain": [
       "<matplotlib.figure.Figure at 0x113052080>"
      ]
     },
     "metadata": {},
     "output_type": "display_data"
    }
   ],
   "source": [
    "# Create barcode\n",
    "# -----------------------------------\n",
    "\n",
    "# Set the diverging color palette\n",
    "#pal1 = sns.color_palette(\"RdBu_r\", 50)\n",
    "pal2 = sns.light_palette((250, 90, 60), n_colors=25, input=\"husl\")\n",
    "pal3 = sns.diverging_palette(25, 250, n=25)\n",
    "\n",
    "# Create heatmap\n",
    "ax = sns.heatmap(df1_transposed, fmt=\"g\", cmap=pal3,cbar=False, yticklabels=False)\n",
    "\n",
    "\n",
    "# Format the figure\n",
    "ax.figure.set_size_inches((16, 4))\n",
    "ax.set_ylabel('')    \n",
    "ax.set_xlabel('')\n",
    "ax.set_xticklabels(Date_Labels)\n",
    "ax.tick_params(axis=u'both', which=u'both',length=0)\n",
    "for label in ax.get_xticklabels():\n",
    "    label.set_weight(\"bold\")\n",
    "    label.set_size('medium')\n",
    "    label.set_rotation(0)\n",
    "    if label.get_text() == '2017':\n",
    "        label.set_ha('left')\n",
    "ax.set_title('Change in Antarctic Mass',weight='bold')"
   ]
  }
 ],
 "metadata": {
  "kernelspec": {
   "display_name": "Python 3",
   "language": "python",
   "name": "python3"
  },
  "language_info": {
   "codemirror_mode": {
    "name": "ipython",
    "version": 3
   },
   "file_extension": ".py",
   "mimetype": "text/x-python",
   "name": "python",
   "nbconvert_exporter": "python",
   "pygments_lexer": "ipython3",
   "version": "3.6.0"
  }
 },
 "nbformat": 4,
 "nbformat_minor": 2
}
