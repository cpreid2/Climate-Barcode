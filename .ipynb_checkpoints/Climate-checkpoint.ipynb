{
 "cells": [
  {
   "cell_type": "code",
   "execution_count": 146,
   "metadata": {
    "collapsed": true
   },
   "outputs": [],
   "source": [
    "# Climate Change Heatmap\n",
    "import pandas as pd\n",
    "import seaborn as sns\n",
    "%matplotlib inline"
   ]
  },
  {
   "cell_type": "code",
   "execution_count": 147,
   "metadata": {},
   "outputs": [
    {
     "data": {
      "text/html": [
       "<div>\n",
       "<table border=\"1\" class=\"dataframe\">\n",
       "  <thead>\n",
       "    <tr style=\"text-align: right;\">\n",
       "      <th></th>\n",
       "      <th>Raw</th>\n",
       "      <th>Smoothed</th>\n",
       "    </tr>\n",
       "    <tr>\n",
       "      <th>Date</th>\n",
       "      <th></th>\n",
       "      <th></th>\n",
       "    </tr>\n",
       "  </thead>\n",
       "  <tbody>\n",
       "    <tr>\n",
       "      <th>1880</th>\n",
       "      <td>-0.19</td>\n",
       "      <td>-0.11</td>\n",
       "    </tr>\n",
       "    <tr>\n",
       "      <th>1881</th>\n",
       "      <td>-0.10</td>\n",
       "      <td>-0.14</td>\n",
       "    </tr>\n",
       "    <tr>\n",
       "      <th>1882</th>\n",
       "      <td>-0.10</td>\n",
       "      <td>-0.17</td>\n",
       "    </tr>\n",
       "    <tr>\n",
       "      <th>1883</th>\n",
       "      <td>-0.19</td>\n",
       "      <td>-0.21</td>\n",
       "    </tr>\n",
       "    <tr>\n",
       "      <th>1884</th>\n",
       "      <td>-0.28</td>\n",
       "      <td>-0.24</td>\n",
       "    </tr>\n",
       "  </tbody>\n",
       "</table>\n",
       "</div>"
      ],
      "text/plain": [
       "       Raw  Smoothed\n",
       "Date                \n",
       "1880 -0.19     -0.11\n",
       "1881 -0.10     -0.14\n",
       "1882 -0.10     -0.17\n",
       "1883 -0.19     -0.21\n",
       "1884 -0.28     -0.24"
      ]
     },
     "execution_count": 147,
     "metadata": {},
     "output_type": "execute_result"
    }
   ],
   "source": [
    "# Read in dataframe\n",
    "Climate_Data = pd.read_csv('647_Global_Temperature_Data_File.txt',sep='\\t', names=['Date','Raw','Smoothed'],index_col='Date')\n",
    "Climate_Data.head()"
   ]
  },
  {
   "cell_type": "code",
   "execution_count": 148,
   "metadata": {},
   "outputs": [
    {
     "data": {
      "text/html": [
       "<div>\n",
       "<table border=\"1\" class=\"dataframe\">\n",
       "  <thead>\n",
       "    <tr style=\"text-align: right;\">\n",
       "      <th>Date</th>\n",
       "      <th>1880</th>\n",
       "      <th>1881</th>\n",
       "      <th>1882</th>\n",
       "      <th>1883</th>\n",
       "      <th>1884</th>\n",
       "      <th>1885</th>\n",
       "      <th>1886</th>\n",
       "      <th>1887</th>\n",
       "      <th>1888</th>\n",
       "      <th>1889</th>\n",
       "      <th>...</th>\n",
       "      <th>2008</th>\n",
       "      <th>2009</th>\n",
       "      <th>2010</th>\n",
       "      <th>2011</th>\n",
       "      <th>2012</th>\n",
       "      <th>2013</th>\n",
       "      <th>2014</th>\n",
       "      <th>2015</th>\n",
       "      <th>2016</th>\n",
       "      <th>2017</th>\n",
       "    </tr>\n",
       "  </thead>\n",
       "  <tbody>\n",
       "    <tr>\n",
       "      <th>Raw</th>\n",
       "      <td>-0.19</td>\n",
       "      <td>-0.1</td>\n",
       "      <td>-0.1</td>\n",
       "      <td>-0.19</td>\n",
       "      <td>-0.28</td>\n",
       "      <td>-0.31</td>\n",
       "      <td>-0.32</td>\n",
       "      <td>-0.35</td>\n",
       "      <td>-0.18</td>\n",
       "      <td>-0.11</td>\n",
       "      <td>...</td>\n",
       "      <td>0.52</td>\n",
       "      <td>0.63</td>\n",
       "      <td>0.7</td>\n",
       "      <td>0.57</td>\n",
       "      <td>0.61</td>\n",
       "      <td>0.64</td>\n",
       "      <td>0.73</td>\n",
       "      <td>0.86</td>\n",
       "      <td>0.99</td>\n",
       "      <td>0.9</td>\n",
       "    </tr>\n",
       "  </tbody>\n",
       "</table>\n",
       "<p>1 rows × 138 columns</p>\n",
       "</div>"
      ],
      "text/plain": [
       "Date  1880  1881  1882  1883  1884  1885  1886  1887  1888  1889  ...   2008  \\\n",
       "Raw  -0.19  -0.1  -0.1 -0.19 -0.28 -0.31 -0.32 -0.35 -0.18 -0.11  ...   0.52   \n",
       "\n",
       "Date  2009  2010  2011  2012  2013  2014  2015  2016  2017  \n",
       "Raw   0.63   0.7  0.57  0.61  0.64  0.73  0.86  0.99   0.9  \n",
       "\n",
       "[1 rows x 138 columns]"
      ]
     },
     "execution_count": 148,
     "metadata": {},
     "output_type": "execute_result"
    }
   ],
   "source": [
    "# Format Data Frame\n",
    "df = pd.DataFrame(Climate_Data['Raw'])\n",
    "df1_transposed = df.T\n",
    "df1_transposed"
   ]
  },
  {
   "cell_type": "code",
   "execution_count": 149,
   "metadata": {
    "collapsed": true
   },
   "outputs": [],
   "source": [
    "# Get a listing of dates\n",
    "Dates = list(df1_transposed.columns)\n",
    "\n",
    "Date_Labels = []\n",
    "for ticknum in range(27):\n",
    "    if ticknum == 0:\n",
    "        Date_Labels.append(str(1880))\n",
    "    if ticknum == 26:\n",
    "        Date_Labels.append(str(2017))\n",
    "    else:\n",
    "        Date_Labels.append('')"
   ]
  },
  {
   "cell_type": "code",
   "execution_count": 153,
   "metadata": {},
   "outputs": [
    {
     "data": {
      "image/png": "[encoded data removed]",
      "text/plain": [
       "<matplotlib.figure.Figure at 0x116a67860>"
      ]
     },
     "metadata": {},
     "output_type": "display_data"
    }
   ],
   "source": [
    "# Create barcode\n",
    "# -----------------------------------\n",
    "\n",
    "# Set the diverging color palette\n",
    "pal1 = sns.color_palette(\"RdBu_r\", 50)\n",
    "\n",
    "# Create heatmap\n",
    "ax = sns.heatmap(df1_transposed, fmt=\"g\", cmap=pal1,cbar=False, yticklabels=False)\n",
    "\n",
    "# Format the figure\n",
    "ax.figure.set_size_inches((20, 11.2))\n",
    "ax.set_ylabel('')    \n",
    "ax.set_xlabel('')\n",
    "ax.set_xticklabels('')\n",
    "ax.tick_params(axis=u'both', which=u'both',length=0)\n",
    "for label in ax.get_xticklabels():\n",
    "    label.set_weight(\"bold\")\n",
    "    label.set_size('medium')\n",
    "    label.set_rotation(0)\n",
    "    if label.get_text() == '2017':\n",
    "        label.set_ha('left')\n",
    "#ax.set_title('Change in Earth surface temperature relative to 1951-1980 average',weight='bold')"
   ]
  },
  {
   "cell_type": "code",
   "execution_count": null,
   "metadata": {
    "collapsed": true
   },
   "outputs": [],
   "source": []
  }
 ],
 "metadata": {
  "kernelspec": {
   "display_name": "Python 3",
   "language": "python",
   "name": "python3"
  },
  "language_info": {
   "codemirror_mode": {
    "name": "ipython",
    "version": 3
   },
   "file_extension": ".py",
   "mimetype": "text/x-python",
   "name": "python",
   "nbconvert_exporter": "python",
   "pygments_lexer": "ipython3",
   "version": "3.6.0"
  }
 },
 "nbformat": 4,
 "nbformat_minor": 2
}
